{
 "cells": [
  {
   "cell_type": "markdown",
   "metadata": {},
   "source": [
    "Logistic Regression"
   ]
  },
  {
   "cell_type": "code",
   "execution_count": 1,
   "metadata": {},
   "outputs": [
    {
     "name": "stderr",
     "output_type": "stream",
     "text": [
      "/Users/tylerkistler/anaconda/lib/python3.6/site-packages/sklearn/cross_validation.py:41: DeprecationWarning: This module was deprecated in version 0.18 in favor of the model_selection module into which all the refactored classes and functions are moved. Also note that the interface of the new CV iterators are different from that of this module. This module will be removed in 0.20.\n",
      "  \"This module will be removed in 0.20.\", DeprecationWarning)\n"
     ]
    }
   ],
   "source": [
    "import math\n",
    "import random\n",
    "import numpy as np\n",
    "import pandas as pd\n",
    "from pandas import DataFrame\n",
    "import matplotlib.pyplot as plt\n",
    "from sklearn import preprocessing\n",
    "from sklearn.linear_model import LogisticRegression\n",
    "from sklearn.metrics import precision_recall_fscore_support as sk_score\n",
    "from sklearn.metrics import confusion_matrix\n",
    "from sklearn.metrics import average_precision_score\n",
    "from sklearn.cross_validation import train_test_split\n",
    "from numpy import loadtxt, where\n",
    "from pylab import scatter, show, legend, xlabel, ylabel\n",
    "import seaborn as sns\n",
    "\n",
    "##implementation of sigmoid function\n",
    "def Sigmoid(x):\n",
    "\tg = float(1.0 / float((1.0 + math.exp(-1.0*x))))\n",
    "\treturn g\n",
    "\n",
    "##Prediction function\n",
    "def Prediction(theta, x):\n",
    "\tz = 0\n",
    "\tfor i in range(len(theta)):\n",
    "\t\tz += x[i]*theta[i]\n",
    "\treturn Sigmoid(z)\n",
    "\n",
    "\n",
    "# implementation of cost functions\n",
    "def Cost_Function(X,Y,theta,m):\n",
    "\tsumOfErrors = 0\n",
    "\tfor i in range(m):\n",
    "\t\txi = X[i]\n",
    "\t\test_yi = Prediction(theta,xi)\n",
    "\t\tif Y[i] == 1:\n",
    "\t\t\terror = Y[i] * math.log(est_yi)\n",
    "\t\telif Y[i] == 0:\n",
    "\t\t\terror = (1-Y[i]) * math.log(1-est_yi)\n",
    "\t\tsumOfErrors += error\n",
    "\tconst = -1/m\n",
    "\tJ = const * sumOfErrors\n",
    "\t#print 'cost is ', J \n",
    "\treturn J\n",
    "\n",
    " \n",
    "# gradient components called by Gradient_Descent()\n",
    "def Cost_Function_Derivative(X,Y,theta,j,m,alpha):\n",
    "\tsumErrors = 0\n",
    "\tfor i in range(m):\n",
    "\t\txi = X[i]\n",
    "\t\txij = xi[j]\n",
    "\t\thi = Prediction(theta,X[i])\n",
    "\t\terror = (hi - Y[i])*xij\n",
    "\t\tsumErrors += error\n",
    "\tm = len(Y)\n",
    "\tconstant = float(alpha)/float(m)\n",
    "\tJ = constant * sumErrors\n",
    "\treturn J\n",
    "\n",
    "# execute gradient updates over thetas\n",
    "def Gradient_Descent(X,Y,theta,m,alpha):\n",
    "\tnew_theta = []\n",
    "\tconstant = alpha/m\n",
    "\tfor j in range(len(theta)):\n",
    "\t\tdeltaF = Cost_Function_Derivative(X,Y,theta,j,m,alpha)\n",
    "\t\tnew_theta_value = theta[j] - deltaF\n",
    "\t\tnew_theta.append(new_theta_value)\n",
    "\treturn new_theta\n",
    "\n"
   ]
  },
  {
   "cell_type": "code",
   "execution_count": 2,
   "metadata": {
    "collapsed": true
   },
   "outputs": [],
   "source": [
    "#My custom confusion matrix function, returning accuracy, precision, recall\n",
    "\n",
    "def func_calConfusionMatrix(predY, trueY):\n",
    "    score = 0\n",
    "    length = len(predY)\n",
    "    for i in range(length):\n",
    "        #prediction = round(Prediction(testX[i],theta))\n",
    "        prediction = predY[i]\n",
    "        answer = trueY[i]\n",
    "        if prediction == answer:\n",
    "            score += 1\n",
    "    my_score = float(score) / float(length)\n",
    "    precision = average_precision_score(trueY, predY)\n",
    "    print('average precision-recall score: {}'.format(precision))\n",
    "    print('accuracy: ' + str(my_score))\n",
    "    \n",
    "    conf_mat = confusion_matrix(trueY, predY)\n",
    "    fig, ax = plt.subplots(figsize = (10,8))\n",
    "    sns.heatmap(conf_mat, \n",
    "                annot = True, \n",
    "                fmt = 'd')\n",
    "    plt.ylabel('Actual')\n",
    "    plt.xlabel('Predicted')\n",
    "    plt.show()"
   ]
  },
  {
   "cell_type": "code",
   "execution_count": 3,
   "metadata": {
    "collapsed": true
   },
   "outputs": [],
   "source": [
    "#import numpy as np\n",
    "#import math\n",
    "#import random\n",
    "\n",
    "# this script is used to generate a set of random data points for classification problems. \n",
    "\n",
    "\n",
    "def getDataSet():\n",
    "    \"\"\"\n",
    "    Returns X (250 X 2) and Y (250 X 1)\n",
    "    \"\"\"\n",
    "    # Step 1: Generate data by a module\n",
    "    n = 100  # 1st class contains N objects\n",
    "    alpha = 1.5  # 2st class contains alpha*N ones\n",
    "    sig2 = 1  # assume 2nd class has the same variance as the 1st\n",
    "    dist2 = 4\n",
    "\n",
    "    # later we move this piece of code in a separate file\n",
    "    # [X, y] = loadModelData(N, alpha, sig2, dist2);\n",
    "    n2 = math.floor(alpha * n)  # calculate the size of the 2nd class\n",
    "    cls1X = np.random.randn(n, 2)  # generate random objects of the 1st class\n",
    "\n",
    "    # generate a random distance from the center of the 1st class to the center of the 2nd\n",
    "    # https://stackoverflow.com/questions/1721802/what-is-the-equivalent-of-matlabs-repmat-in-numpy\n",
    "    a = np.array([[math.sin(math.pi * random.random()), math.cos(math.pi * random.random())]])\n",
    "    a1 = a * dist2\n",
    "    shiftClass2 = np.kron(np.ones((n2, 1)), a1)\n",
    "\n",
    "    # generate random objects of the 2nd class\n",
    "    cls2X = sig2 * np.random.randn(n2, 2) + shiftClass2\n",
    "    # combine the objects\n",
    "    X = np.concatenate((cls1X, cls2X), axis=0)\n",
    "\n",
    "    # assign class labels: 0s and 1s\n",
    "    y = np.concatenate((np.zeros((cls1X.shape[0], 1)), np.ones((cls2X.shape[0], 1))), axis=0)\n",
    "    # end % of module.\n",
    "    return X, y\n"
   ]
  },
  {
   "cell_type": "code",
   "execution_count": 4,
   "metadata": {},
   "outputs": [],
   "source": [
    "\n",
    "# Starting codes\n",
    "\n",
    "# step 1: generate dataset that includes both positive and negative samples,\n",
    "# where each sample is described with two features.\n",
    "# 250 samples in total.\n",
    "\n",
    "[X, y] = getDataSet()  # note that y contains only 1s and 0s,\n",
    "\n",
    "# create figure for all charts to be placed on so can be viewed together\n",
    "fig = plt.figure()\n",
    "\n",
    "\n",
    "def func_DisplayData(dataSamplesX, dataSamplesY, chartNum, titleMessage):\n",
    "    idx1 = (dataSamplesY == 0).nonzero()  # object indices for the 1st class\n",
    "    idx2 = (dataSamplesY == 1).nonzero()\n",
    "    ax = fig.add_subplot(1, 3, chartNum)\n",
    "    # no more variables are needed\n",
    "    plt.plot(dataSamplesX[idx1, 0], dataSamplesX[idx1, 1], 'r*')\n",
    "    plt.plot(dataSamplesX[idx2, 0], dataSamplesX[idx2, 1], 'b*')\n",
    "    # axis tight\n",
    "    ax.set_xlabel('x_1')\n",
    "    ax.set_ylabel('x_2')\n",
    "    ax.set_title(titleMessage)\n",
    "\n",
    "\n",
    "# plotting all samples\n",
    "func_DisplayData(X, y, 1, 'All samples')"
   ]
  },
  {
   "cell_type": "code",
   "execution_count": 5,
   "metadata": {},
   "outputs": [
    {
     "data": {
      "image/png": "[encoded data removed]",
      "text/plain": [
       "<matplotlib.figure.Figure at 0x1171fb358>"
      ]
     },
     "metadata": {},
     "output_type": "display_data"
    }
   ],
   "source": [
    "# number of training samples\n",
    "nTrain = 120\n",
    "\n",
    "# write you own code to randomly pick up nTrain number of samples for training and use the rest for testing. \n",
    "trainX, testX, trainY, testY = train_test_split(X, y,\n",
    "                                                stratify=y, \n",
    "                                                test_size=((len(X)-nTrain)/len(X)))\n",
    "\n",
    "# plot the samples you have pickup for training, check to confirm that both negative\n",
    "# and positive samples are included.\n",
    "func_DisplayData(trainX, trainY, 2, 'training samples')\n",
    "func_DisplayData(testX, testY, 3, 'testing samples')\n",
    "\n",
    "# show all charts\n",
    "plt.show()\n"
   ]
  },
  {
   "cell_type": "code",
   "execution_count": 6,
   "metadata": {},
   "outputs": [
    {
     "name": "stdout",
     "output_type": "stream",
     "text": [
      "average precision-recall score: 1.0\n",
      "accuracy: 1.0\n"
     ]
    },
    {
     "data": {
      "image/png": "[encoded data removed]",
      "text/plain": [
       "<matplotlib.figure.Figure at 0x1097c7710>"
      ]
     },
     "metadata": {},
     "output_type": "display_data"
    }
   ],
   "source": [
    "func_calConfusionMatrix(testY, testY)"
   ]
  },
  {
   "cell_type": "code",
   "execution_count": 7,
   "metadata": {},
   "outputs": [
    {
     "name": "stdout",
     "output_type": "stream",
     "text": [
      "theta  [array([ 0.04269927]), array([ 0.05781589])]\n",
      "cost is  [ 0.64423715]\n",
      "theta  [array([ 0.62358165]), array([ 0.92842348])]\n",
      "cost is  [ 0.39057554]\n",
      "theta  [array([ 0.6211547]), array([ 0.93589525])]\n",
      "cost is  [ 0.3905704]\n",
      "theta  [array([ 0.62050807]), array([ 0.93642479])]\n",
      "cost is  [ 0.39057035]\n",
      "theta  [array([ 0.62042005]), array([ 0.93648984])]\n",
      "cost is  [ 0.39057035]\n"
     ]
    }
   ],
   "source": [
    "#  step 2: train logistic regression models\n",
    "\n",
    "# in this placefolder you will need to train a logistic model using the training data: trainX, and trainY.\n",
    "\n",
    "theta = [0,0] #initial model parameters\n",
    "alpha = 0.1 # learning rates\n",
    "max_iteration = 1000 # maximal iterations\n",
    "bias = []\n",
    "coeffs = []\n",
    "\n",
    "m = len(trainY) # number of samples\n",
    "\n",
    "for x in range(max_iteration):\n",
    "\t# call the functions for gradient descent method\n",
    "\tnew_theta = Gradient_Descent(trainX,trainY,theta,m,alpha)\n",
    "\ttheta = new_theta\n",
    "\tbias.append(Cost_Function(trainX,trainY,theta,m))\n",
    "\tcoeffs.append(theta)\n",
    "\tif x % 200 == 0:\n",
    "\t\t# calculate the cost function with the present theta\n",
    "\t\tCost_Function(trainX,trainY,theta,m)\n",
    "\t\tprint('theta ', theta)\n",
    "\t\tprint('cost is ', Cost_Function(trainX,trainY,theta,m))\n"
   ]
  },
  {
   "cell_type": "markdown",
   "metadata": {},
   "source": [
    "# use sklearn class\n",
    "clf = LogisticRegression(fit_intercept=True, penalty='l2', class_weight='balanced', C=1e15)\n",
    "# call the function fit() to train the class instance\n",
    "clf.fit(trainX,trainY)\n",
    "\n",
    "coeffs = clf.coef_ # coefficients\n",
    "intercept = clf.intercept_ # bias \n",
    "bHat = np.hstack((np.array([intercept]), coeffs))\n",
    "\n",
    "# scores over testing samples\n",
    "print('score Scikit learn: ', clf.score(testX,testY))\n",
    "\n",
    "# visualize data using functions in the library pylab \n",
    "pos = where(y == 1)\n",
    "neg = where(y == 0)\n",
    "scatter(X[pos, 0], X[pos, 1], marker='o', c='b')\n",
    "scatter(X[neg, 0], X[neg, 1], marker='x', c='r')\n",
    "xlabel('Feature 1: score 1')\n",
    "ylabel('Feature 2: score 2')\n",
    "legend(['Label:  YES', 'Label: NO'])\n",
    "show()"
   ]
  },
  {
   "cell_type": "code",
   "execution_count": 8,
   "metadata": {},
   "outputs": [
    {
     "name": "stdout",
     "output_type": "stream",
     "text": [
      "average precision-recall score: 0.7428571428571429\n",
      "accuracy: 0.7923076923076923\n"
     ]
    },
    {
     "data": {
      "image/png": "[encoded data removed]",
      "text/plain": [
       "<matplotlib.figure.Figure at 0x1171fb1d0>"
      ]
     },
     "metadata": {},
     "output_type": "display_data"
    }
   ],
   "source": [
    "# step 3: Use the model to get class labels of testing samples.\n",
    " \n",
    "\n",
    "# codes for making prediction, \n",
    "# with the learned model, apply the logistic model over testing samples\n",
    "# hatProb is the probability of belonging to the class 1.\n",
    "#y = 1/(1+exp(-Xb))\n",
    "#yHat = (1./(1+np.exp(np.negative(np.concatenate((np.ones((testX.shape[0], 1)), testX), axis=1)\n",
    "                                 #* bHat.T ))) >= 0.5).astype(int)\n",
    "m,n=np.shape(testX)\n",
    "y=testY.reshape(m,1)\n",
    "\n",
    "#xHat=np.c_[np.ones((m,1)),testX] #adds column of 1s to left\n",
    "#coeffs = np.zeros((n+1,1))\n",
    "#bHat = np.dot(bias, coeffs.T)\n",
    "#negXHat = np.negative(xHat) #negative multiplication to matrix\n",
    "#hatProb = 1.0 / (1.0 + np.exp(np.dot(negXHat, bHat.T))) #variant of classification\n",
    "#yHat = (hatProb >= 0.5).astype(int) #convert bool to binary\n",
    "#class labels predicted with threshold\n",
    "\n",
    "predY = []\n",
    "length = len(testX)\n",
    "for i in range(length):\n",
    "        prediction = round(Prediction(testX[i],theta))\n",
    "        predY.append(prediction)\n",
    "\n",
    "func_calConfusionMatrix(predY, y)\n",
    "\n",
    "######################PLACEHOLDER 3 #end #########################\n"
   ]
  },
  {
   "cell_type": "code",
   "execution_count": 9,
   "metadata": {},
   "outputs": [
    {
     "name": "stdout",
     "output_type": "stream",
     "text": [
      "average error: 0.43846153846153846 (0.49619856685754277)\n"
     ]
    }
   ],
   "source": [
    "# step 4: evaluation\n",
    "# compare predictions yHat and and true labels testy to calculate average error and standard deviation\n",
    "testYDiff = np.abs(predY - y)\n",
    "avgErr = np.mean(testYDiff)\n",
    "stdErr = np.std(testYDiff)\n",
    "\n",
    "print('average error: {} ({})'.format(avgErr, stdErr))\n"
   ]
  },
  {
   "cell_type": "markdown",
   "metadata": {},
   "source": [
    "REPORT:\n",
    "\n",
    "For problem 2, the number of correct predictions is 7. To compute the accuracy of this confusion matrix, we simply divide 7 by the length of the test, which is 20. Thus, the accuracy for Problem 2 is 0.35.\n",
    "\n",
    "I usually use sklearn for most of my personal experience in prediction modeling, but it was interesting to break apart and manually implement alternative routes to predict and analyze. Since this is binary classification, the error can only start so low without training (since you almost have a 50/50 shot to classify correct without prior knowledge), making the learning progression less evident than a multiclass labeling. Increasing the sample sizes would increase the accuracy in predicting and also minimize the average error. \n",
    "\n",
    "When dealing with binary classifications, I much prefer the use of Naive Bayes models, over Logistical Regression models or Linear SVC models. I find the latter two models to be more superior in learning and predicting multiclass scenarios. \n",
    "\n",
    "Looking at the sample data, it appears that perfect accuracy isn't achievable, most likely do to overlapping features and situational exceptions. In a linear regression model, a best fit line is evaluated, but even the best fit line will still have inaccuracies (unless the line morphs and bends around individual nodes, but it doesn't...)"
   ]
  }
 ],
 "metadata": {
  "kernelspec": {
   "display_name": "Python 3",
   "language": "python",
   "name": "python3"
  },
  "language_info": {
   "codemirror_mode": {
    "name": "ipython",
    "version": 3
   },
   "file_extension": ".py",
   "mimetype": "text/x-python",
   "name": "python",
   "nbconvert_exporter": "python",
   "pygments_lexer": "ipython3",
   "version": "3.6.5"
  }
 },
 "nbformat": 4,
 "nbformat_minor": 2
}
